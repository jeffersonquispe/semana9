{
 "cells": [
  {
   "cell_type": "markdown",
   "metadata": {},
   "source": [
    "# Comparation between Elimination Variable in SamIam and Jupyter Bayesian Network"
   ]
  },
  {
   "cell_type": "markdown",
   "metadata": {},
   "source": []
  },
  {
   "cell_type": "code",
   "execution_count": 46,
   "metadata": {},
   "outputs": [],
   "source": [
    "from pgmpy.factors.discrete import TabularCPD\n",
    "import numpy as np\n",
    "grade_cpd = TabularCPD(variable='G',\n",
    "variable_card=3,\n",
    "values=[[0.3, 0.05, 0.9, 0.5],\n",
    "[0.4, 0.25, 0.08, 0.3],\n",
    "[0.3, 0.7, 0.02, 0.2]],\n",
    "evidence=['I', 'D'],\n",
    "evidence_card=[2, 2])\n"
   ]
  },
  {
   "cell_type": "code",
   "execution_count": 22,
   "metadata": {},
   "outputs": [],
   "source": [
    "from pgmpy.models import BayesianModel\n",
    "from pgmpy.factors.discrete import TabularCPD\n",
    "student_model = BayesianModel([('D', 'G'),('I', 'G'),('G', 'L'),('I', 'S')])"
   ]
  },
  {
   "cell_type": "code",
   "execution_count": 23,
   "metadata": {},
   "outputs": [],
   "source": [
    "grade_cpd = TabularCPD(\n",
    "variable='G',\n",
    "variable_card=3,\n",
    "values=[[0.3, 0.05, 0.9, 0.5],\n",
    "[0.4, 0.25, 0.08, 0.3],\n",
    "[0.3, 0.7, 0.02, 0.2]],\n",
    "evidence=['I', 'D'],\n",
    "evidence_card=[2, 2])"
   ]
  },
  {
   "cell_type": "code",
   "execution_count": 24,
   "metadata": {},
   "outputs": [],
   "source": [
    "difficulty_cpd = TabularCPD(\n",
    "variable='D',\n",
    "variable_card=2,\n",
    "values=[[0.6, 0.4]])\n",
    "\n",
    "intel_cpd = TabularCPD(\n",
    "variable='I',\n",
    "variable_card=2,\n",
    "values=[[0.7, 0.3]])\n",
    "\n",
    "letter_cpd = TabularCPD(\n",
    "variable='L',\n",
    "variable_card=2,\n",
    "values=[[0.1, 0.4, 0.99],\n",
    "[0.9, 0.6, 0.01]],\n",
    "evidence=['G'],\n",
    "evidence_card=[3])\n",
    "\n"
   ]
  },
  {
   "cell_type": "code",
   "execution_count": 25,
   "metadata": {},
   "outputs": [],
   "source": [
    "sat_cpd = TabularCPD(\n",
    "variable='S',\n",
    "variable_card=2,\n",
    "values=[[0.95, 0.2],\n",
    "[0.05, 0.8]],\n",
    "evidence=['I'],\n",
    "evidence_card=[2])\n"
   ]
  },
  {
   "cell_type": "code",
   "execution_count": 26,
   "metadata": {},
   "outputs": [],
   "source": [
    "student_model.add_cpds(grade_cpd, difficulty_cpd,\n",
    "intel_cpd, letter_cpd,sat_cpd)"
   ]
  },
  {
   "cell_type": "code",
   "execution_count": 27,
   "metadata": {},
   "outputs": [
    {
     "data": {
      "text/plain": [
       "[<TabularCPD representing P(G:3 | I:2, D:2) at 0x7ff69cde8a20>,\n",
       " <TabularCPD representing P(D:2) at 0x7ff69cde8e80>,\n",
       " <TabularCPD representing P(I:2) at 0x7ff69cde8ef0>,\n",
       " <TabularCPD representing P(L:2 | G:3) at 0x7ff69cde8cc0>,\n",
       " <TabularCPD representing P(S:2 | I:2) at 0x7ff69cde89b0>]"
      ]
     },
     "execution_count": 27,
     "metadata": {},
     "output_type": "execute_result"
    }
   ],
   "source": [
    "student_model.get_cpds()\n"
   ]
  },
  {
   "cell_type": "code",
   "execution_count": 28,
   "metadata": {},
   "outputs": [
    {
     "data": {
      "text/plain": [
       "{'D': {'D', 'G', 'L'}}"
      ]
     },
     "execution_count": 28,
     "metadata": {},
     "output_type": "execute_result"
    }
   ],
   "source": [
    "student_model.active_trail_nodes('D')\n"
   ]
  },
  {
   "cell_type": "code",
   "execution_count": 29,
   "metadata": {},
   "outputs": [
    {
     "data": {
      "text/plain": [
       "(G _|_ S | D, I)"
      ]
     },
     "execution_count": 29,
     "metadata": {},
     "output_type": "execute_result"
    }
   ],
   "source": [
    "student_model.local_independencies('G')"
   ]
  },
  {
   "cell_type": "code",
   "execution_count": 30,
   "metadata": {},
   "outputs": [
    {
     "data": {
      "text/plain": [
       "(D _|_ S, I)\n",
       "(D _|_ I | S)\n",
       "(D _|_ L | G)\n",
       "(D _|_ S | I)\n",
       "(D _|_ L | S, G)\n",
       "(D _|_ S | L, I)\n",
       "(D _|_ S, L | G, I)\n",
       "(D _|_ L | S, G, I)\n",
       "(D _|_ S | G, L, I)\n",
       "(G _|_ S | I)\n",
       "(G _|_ S | D, I)\n",
       "(G _|_ S | L, I)\n",
       "(G _|_ S | D, L, I)\n",
       "(I _|_ D)\n",
       "(I _|_ D | S)\n",
       "(I _|_ L | G)\n",
       "(I _|_ L | S, G)\n",
       "(I _|_ L | D, G)\n",
       "(I _|_ L | S, D, G)\n",
       "(L _|_ S, D, I | G)\n",
       "(L _|_ S | I)\n",
       "(L _|_ D, I | S, G)\n",
       "(L _|_ S, I | D, G)\n",
       "(L _|_ S | D, I)\n",
       "(L _|_ S, D | G, I)\n",
       "(L _|_ I | S, D, G)\n",
       "(L _|_ D | S, G, I)\n",
       "(L _|_ S | D, G, I)\n",
       "(S _|_ D)\n",
       "(S _|_ L | G)\n",
       "(S _|_ D, G, L | I)\n",
       "(S _|_ L | D, G)\n",
       "(S _|_ G, L | D, I)\n",
       "(S _|_ D, G | L, I)\n",
       "(S _|_ D, L | G, I)\n",
       "(S _|_ G | D, L, I)\n",
       "(S _|_ L | D, G, I)\n",
       "(S _|_ D | G, L, I)"
      ]
     },
     "execution_count": 30,
     "metadata": {},
     "output_type": "execute_result"
    }
   ],
   "source": [
    "student_model.get_independencies()"
   ]
  },
  {
   "cell_type": "code",
   "execution_count": 31,
   "metadata": {},
   "outputs": [
    {
     "data": {
      "text/plain": [
       "<pgmpy.models.MarkovModel.MarkovModel at 0x7ff69ce28f98>"
      ]
     },
     "execution_count": 31,
     "metadata": {},
     "output_type": "execute_result"
    }
   ],
   "source": [
    "student_model.to_markov_model()"
   ]
  },
  {
   "cell_type": "code",
   "execution_count": 32,
   "metadata": {},
   "outputs": [],
   "source": [
    "def JoinDistribution(model, arr_del, evidence, result):\n",
    "\n",
    "    dim_result = 1\n",
    "    _len_result = student_model.get_cpds(result).values.shape\n",
    "    for n in range(len(_len_result)):\n",
    "        dim_result *= _len_result[n]\n",
    "    _result = student_model.get_cpds(result).values.reshape((dim_result,1))\n",
    "\n",
    "    for k in range(len(arr_del)):\n",
    "        \n",
    "        dim_del = 1\n",
    "        _len_del = student_model.get_cpds(arr_del[k]).values.shape\n",
    "        for m in range(len(_len_del)):\n",
    "            dim_del *=_len_del[m]\n",
    "        _del = student_model.get_cpds(arr_del[k]).values.reshape((dim_del,1))\n",
    "        \n",
    "        #del\n",
    "        for i in range(dim_del):\n",
    "            if i%2 == 0:\n",
    "                active = True\n",
    "            else:\n",
    "                active = False\n",
    "                \n",
    "            count = k\n",
    "            for j in range(dim_result):\n",
    "                if active:\n",
    "                    _result[j] = _result[j]*_del[i]\n",
    "                \n",
    "                if count == 0:\n",
    "                    if active:\n",
    "                        active = False\n",
    "                    else:\n",
    "                        active = True\n",
    "                    count = k\n",
    "                else:\n",
    "                    count = count-1\n",
    "\n",
    "            \n",
    "    return Reduction(_result, arr_del, evidence)\n"
   ]
  },
  {
   "cell_type": "code",
   "execution_count": 33,
   "metadata": {},
   "outputs": [],
   "source": [
    "def JoinDistribution(model, arr_del, result):\n",
    "\n",
    "    dim_result = 1\n",
    "    _len_result = student_model.get_cpds(result).values.shape\n",
    "    for n in range(len(_len_result)):\n",
    "        dim_result *= _len_result[n]\n",
    "    _result = student_model.get_cpds(result).values.reshape((dim_result,1))\n",
    "        \n",
    "    for k in range(len(arr_del)):\n",
    "        \n",
    "        dim_del = 1\n",
    "        _len_del = student_model.get_cpds(arr_del[k]).values.shape\n",
    "        for m in range(len(_len_del)):\n",
    "            dim_del *=_len_del[m]\n",
    "        _del = student_model.get_cpds(arr_del[k]).values.reshape((dim_del,1))\n",
    "        \n",
    "        for i in range(dim_del):\n",
    "            if i%2 == 0:\n",
    "                active = True\n",
    "            else:\n",
    "                active = False\n",
    "                \n",
    "            count = k\n",
    "            for j in range(dim_result):\n",
    "                if active:\n",
    "                    _result[j] = _result[j]*_del[i]\n",
    "                \n",
    "                if count == 0:\n",
    "                    if active:\n",
    "                        active = False\n",
    "                    else:\n",
    "                        active = True\n",
    "                    count = k\n",
    "                else:\n",
    "                    count = count-1\n",
    "            \n",
    "    return _result"
   ]
  },
  {
   "cell_type": "code",
   "execution_count": 34,
   "metadata": {},
   "outputs": [],
   "source": [
    "def Marginalization(_result, cardinalidad):\n",
    "    _ret = np.zeros((cardinalidad,1))\n",
    "    \n",
    "    longitud = len(_result)\n",
    "    _ret_pos = 0\n",
    "    \n",
    "    for i in range(len(_result)):\n",
    "        _ret[_ret_pos] += _result[i]\n",
    "        \n",
    "        if((i+1)%(longitud/cardinalidad) == 0):\n",
    "            _ret_pos +=1\n",
    "            \n",
    "    return _ret"
   ]
  },
  {
   "cell_type": "code",
   "execution_count": 35,
   "metadata": {},
   "outputs": [],
   "source": [
    "def Reduction(_result, arr_del, evidence):\n",
    "    val = evidence.get(arr_del[0])\n",
    "    longitud = len(_result)\n",
    "    \n",
    "    _arr = np.zeros((int(longitud/2),1))\n",
    "    \n",
    "    for i in range(longitud):\n",
    "        if i%2 == val:\n",
    "            _arr[int(i/2)] = _result[i]\n",
    "            \n",
    "    return Renormalization(_arr)\n"
   ]
  },
  {
   "cell_type": "code",
   "execution_count": 36,
   "metadata": {},
   "outputs": [],
   "source": [
    "def Renormalization(_arr):\n",
    "    suma = np.sum(_arr)\n",
    "    return _arr/suma"
   ]
  },
  {
   "cell_type": "code",
   "execution_count": 40,
   "metadata": {},
   "outputs": [],
   "source": [
    "x = student_model.get_cpds(\"S\").values.shape"
   ]
  },
  {
   "cell_type": "code",
   "execution_count": 41,
   "metadata": {},
   "outputs": [
    {
     "data": {
      "text/plain": [
       "array([[[ 0.3 ,  0.05],\n",
       "        [ 0.9 ,  0.5 ]],\n",
       "\n",
       "       [[ 0.4 ,  0.25],\n",
       "        [ 0.08,  0.3 ]],\n",
       "\n",
       "       [[ 0.3 ,  0.7 ],\n",
       "        [ 0.02,  0.2 ]]])"
      ]
     },
     "execution_count": 41,
     "metadata": {},
     "output_type": "execute_result"
    }
   ],
   "source": [
    "student_model.get_cpds(\"G\").values"
   ]
  },
  {
   "cell_type": "markdown",
   "metadata": {},
   "source": [
    "Example Query(Grade)"
   ]
  },
  {
   "cell_type": "code",
   "execution_count": 49,
   "metadata": {},
   "outputs": [
    {
     "data": {
      "text/plain": [
       "array([[ 0.05292 ],\n",
       "       [ 0.00392 ],\n",
       "       [ 0.02916 ],\n",
       "       [ 0.0072  ],\n",
       "       [ 0.07056 ],\n",
       "       [ 0.0196  ],\n",
       "       [ 0.002592],\n",
       "       [ 0.00432 ],\n",
       "       [ 0.05292 ],\n",
       "       [ 0.05488 ],\n",
       "       [ 0.000648],\n",
       "       [ 0.00288 ]])"
      ]
     },
     "execution_count": 49,
     "metadata": {},
     "output_type": "execute_result"
    }
   ],
   "source": [
    "arr = JoinDistribution(student_model, [\"D\", \"I\"], \"G\")\n",
    "arr"
   ]
  },
  {
   "cell_type": "code",
   "execution_count": 47,
   "metadata": {},
   "outputs": [
    {
     "data": {
      "text/plain": [
       "array([[ 0.362 ],\n",
       "       [ 0.2884],\n",
       "       [ 0.3496]])"
      ]
     },
     "execution_count": 47,
     "metadata": {},
     "output_type": "execute_result"
    }
   ],
   "source": [
    "\n",
    "Marginalization(arr, student_model.get_cardinality(\"G\"))"
   ]
  }
 ],
 "metadata": {
  "kernelspec": {
   "display_name": "Python 3",
   "language": "python",
   "name": "python3"
  },
  "language_info": {
   "codemirror_mode": {
    "name": "ipython",
    "version": 3
   },
   "file_extension": ".py",
   "mimetype": "text/x-python",
   "name": "python",
   "nbconvert_exporter": "python",
   "pygments_lexer": "ipython3",
   "version": "3.6.5"
  }
 },
 "nbformat": 4,
 "nbformat_minor": 2
}
